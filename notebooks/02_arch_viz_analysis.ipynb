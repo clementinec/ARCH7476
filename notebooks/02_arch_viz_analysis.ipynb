{
 "cells": [
  {
   "cell_type": "markdown",
   "metadata": {},
   "source": [
    "# Architecture Data Analysis + Visualization Primer\n",
    "\n",
    "Designed for complete Python beginners. Load pilot study data, compute simple summaries, and make figures you can reuse in A3/A4 (charts with uncertainty, multi-panel layouts, and a word cloud)."
   ]
  },
  {
   "cell_type": "markdown",
   "metadata": {},
   "source": [
    "## Setup\n",
    "```bash\n",
    "# !pip install pandas numpy matplotlib seaborn scipy wordcloud\n",
    "```\n",
    "This assumes the repo root contains `data/` and `scripts/`."
   ]
  },
  {
   "cell_type": "code",
   "execution_count": null,
   "metadata": {},
   "outputs": [],
   "source": [
    "from pathlib import Path\n",
    "import sys\n",
    "if '__file__' in globals():\n",
    "    ROOT = Path(__file__).resolve().parents[1]\n",
    "else:\n",
    "    candidate = Path.cwd()\n",
    "    if (candidate / 'scripts').exists():\n",
    "        ROOT = candidate\n",
    "    elif candidate.name == 'notebooks' and (candidate.parent / 'scripts').exists():\n",
    "        ROOT = candidate.parent\n",
    "    else:\n",
    "        ROOT = candidate\n",
    "if str(ROOT / 'scripts') not in sys.path:\n",
    "    sys.path.append(str(ROOT / 'scripts'))\n",
    "\n",
    "import numpy as np\n",
    "import pandas as pd\n",
    "import matplotlib.pyplot as plt\n",
    "import seaborn as sns\n",
    "from scipy import stats\n",
    "\n",
    "from plotting_utils import set_style, plot_error_bars, wordcloud_from_series\n",
    "import data_simulation as sim\n",
    "set_style()\n"
   ]
  },
  {
   "cell_type": "markdown",
   "metadata": {},
   "source": [
    "## Load pilot observations\n",
    "We compare two conditions (A vs. B) for a space."
   ]
  },
  {
   "cell_type": "code",
   "execution_count": null,
   "metadata": {},
   "outputs": [],
   "source": [
    "pilot_path = ROOT / 'data' / 'pilot_observations_fake.csv'\n",
    "if not pilot_path.exists():\n",
    "    sim.save_default_fake_data(ROOT)\n",
    "pilot = pd.read_csv(pilot_path, parse_dates=['timestamp'])\n",
    "pilot.head()"
   ]
  },
  {
   "cell_type": "markdown",
   "metadata": {},
   "source": [
    "### Simple EDA\n",
    "Summaries and a first line chart."
   ]
  },
  {
   "cell_type": "code",
   "execution_count": null,
   "metadata": {},
   "outputs": [],
   "source": [
    "pilot.describe(include='all')"
   ]
  },
  {
   "cell_type": "code",
   "execution_count": null,
   "metadata": {},
   "outputs": [],
   "source": [
    "plt.figure(figsize=(9,4))\n",
    "sns.lineplot(data=pilot, x='timestamp', y='occupancy_count', hue='condition')\n",
    "plt.title('Occupancy over time (pilot)')\n",
    "plt.tight_layout(); plt.show()"
   ]
  },
  {
   "cell_type": "markdown",
   "metadata": {},
   "source": [
    "## Bar chart with error bars\n",
    "Mean dwell time by condition with 95% CIs."
   ]
  },
  {
   "cell_type": "code",
   "execution_count": null,
   "metadata": {},
   "outputs": [],
   "source": [
    "_ = plot_error_bars(pilot, group_col='condition', value_col='dwell_time_mean_min', title='Dwell time (mean ± 95% CI)')\n",
    "plt.show()"
   ]
  },
  {
   "cell_type": "markdown",
   "metadata": {},
   "source": [
    "### Optional: quick statistical comparison\n",
    "Independent t-test on dwell time between A and B (pilot scale)."
   ]
  },
  {
   "cell_type": "code",
   "execution_count": null,
   "metadata": {},
   "outputs": [],
   "source": [
    "a = pilot.loc[pilot.condition=='A', 'dwell_time_mean_min']\n",
    "b = pilot.loc[pilot.condition=='B', 'dwell_time_mean_min']\n",
    "stats.ttest_ind(a, b, equal_var=False)"
   ]
  },
  {
   "cell_type": "markdown",
   "metadata": {},
   "source": [
    "## Distribution plots\n",
    "Box/violin charts communicate variability quickly."
   ]
  },
  {
   "cell_type": "code",
   "execution_count": null,
   "metadata": {},
   "outputs": [],
   "source": [
    "fig, ax = plt.subplots(1,2, figsize=(10,4))\n",
    "sns.boxplot(data=pilot, x='condition', y='occupancy_count', ax=ax[0])\n",
    "sns.violinplot(data=pilot, x='condition', y='dwell_time_mean_min', ax=ax[1])\n",
    "ax[0].set_title('Occupancy distribution')\n",
    "ax[1].set_title('Dwell time distribution')\n",
    "plt.tight_layout(); plt.show()"
   ]
  },
  {
   "cell_type": "markdown",
   "metadata": {},
   "source": [
    "## Bootstrapped confidence intervals (beginner-friendly)\n",
    "Resample with replacement to estimate uncertainty without heavy math."
   ]
  },
  {
   "cell_type": "code",
   "execution_count": null,
   "metadata": {},
   "outputs": [],
   "source": [
    "def bootstrap_ci(x, n_boot=2000, ci=0.95, seed=42):\n",
    "    rng = np.random.default_rng(seed)\n",
    "    means = []\n",
    "    for _ in range(n_boot):\n",
    "        sample = rng.choice(x, size=len(x), replace=True)\n",
    "        means.append(np.mean(sample))\n",
    "    lo = np.percentile(means, (1-ci)/2*100)\n",
    "    hi = np.percentile(means, (1+(ci))/2*100)\n",
    "    return float(np.mean(means)), float(lo), float(hi)\n",
    "\n",
    "for cond in ['A','B']:\n",
    "    m, lo, hi = bootstrap_ci(pilot.loc[pilot.condition==cond, 'dwell_time_mean_min'].values)\n",
    "    print(cond, 'mean≈', round(m,2), 'CI', (round(lo,2), round(hi,2)))"
   ]
  },
  {
   "cell_type": "markdown",
   "metadata": {},
   "source": [
    "## Survey text → Word cloud (with fallback)\n",
    "Turn open-text feedback into a quick visual."
   ]
  },
  {
   "cell_type": "code",
   "execution_count": null,
   "metadata": {},
   "outputs": [],
   "source": [
    "survey_path = ROOT / 'data' / 'survey_responses_fake.csv'\n",
    "if not survey_path.exists():\n",
    "    sim.save_default_fake_data(ROOT)\n",
    "survey = pd.read_csv(survey_path)\n",
    "_ = wordcloud_from_series(survey['response_text'])\n",
    "plt.show()"
   ]
  },
  {
   "cell_type": "markdown",
   "metadata": {},
   "source": [
    "## Stakeholder-ready figures\n",
    "Examples you can export directly to your A4: add thresholds, annotations, and save to PNG."
   ]
  },
  {
   "cell_type": "code",
   "execution_count": null,
   "metadata": {},
   "outputs": [],
   "source": [
    "fig, ax = plt.subplots(figsize=(7,4))\n",
    "sns.barplot(data=pilot, x='condition', y='occupancy_count', estimator=np.mean, ci=95, ax=ax, color='#64B5F6')\n",
    "ax.axhline(24, ls='--', c='red', label='Target ≥ 24 users')\n",
    "ax.set_title('Occupancy (mean ± 95% CI) with target line')\n",
    "ax.legend()\n",
    "plt.tight_layout()\n",
    "out = ROOT / 'docs' / 'fig_occupancy_bar.png'\n",
    "plt.savefig(out, dpi=200)\n",
    "out"
   ]
  },
  {
   "cell_type": "markdown",
   "metadata": {},
   "source": [
    "## Multi-panel \"Object Card\" starter\n",
    "A compact layout combining key visuals. Replace with your own charts later."
   ]
  },
  {
   "cell_type": "code",
   "execution_count": null,
   "metadata": {},
   "outputs": [],
   "source": [
    "fig, axs = plt.subplots(2,2, figsize=(10,7))\n",
    "sns.lineplot(data=pilot, x='timestamp', y='occupancy_count', hue='condition', ax=axs[0,0])\n",
    "axs[0,0].set_title('Occupancy over time')\n",
    "sns.boxplot(data=pilot, x='condition', y='dwell_time_mean_min', ax=axs[0,1])\n",
    "axs[0,1].set_title('Dwell time distribution')\n",
    "sns.scatterplot(data=pilot, x='temp_c', y='humidity_pct', hue='condition', ax=axs[1,0])\n",
    "axs[1,0].set_title('Env. conditions')\n",
    "sns.barplot(data=pilot, x='condition', y='occupancy_count', estimator=np.mean, ci=95, ax=axs[1,1])\n",
    "axs[1,1].set_title('Occupancy mean ± CI')\n",
    "plt.tight_layout()\n",
    "out = ROOT / 'docs' / 'object_card_starter.png'\n",
    "plt.savefig(out, dpi=200)\n",
    "out"
   ]
  },
  {
   "cell_type": "markdown",
   "metadata": {},
   "source": [
    "## Recap\n",
    "- Load data, summarize, and plot with uncertainty\n",
    "- Use word clouds or top-word bars for survey text\n",
    "- Save ready-to-drop figures for A4 and presentations\n",
    "\n",
    "Tip: replace the fake CSVs in `data/` with your own using the same column names to reuse these cells without edits."
   ]
  }
 ],
 "metadata": {
  "kernelspec": {
   "display_name": "Python 3",
   "language": "python",
   "name": "python3"
  },
  "language_info": {
   "name": "python"
  }
 },
 "nbformat": 4,
 "nbformat_minor": 5
}
